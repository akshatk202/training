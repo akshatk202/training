{
 "cells": [
  {
   "cell_type": "markdown",
   "metadata": {},
   "source": [
    "# Encapsulation\n",
    "* Public method\n",
    "* Private method\n",
    "* Protected method"
   ]
  },
  {
   "cell_type": "markdown",
   "metadata": {},
   "source": [
    "### 1. Public method"
   ]
  },
  {
   "cell_type": "code",
   "execution_count": 2,
   "metadata": {},
   "outputs": [
    {
     "name": "stdout",
     "output_type": "stream",
     "text": [
      "College name is = liet\n",
      "College id is = 12345\n",
      "College address is = chikani 🏫\n"
     ]
    }
   ],
   "source": [
    "class college:\n",
    "    college_name=\"liet\"\n",
    "    college_address=\"chikani 🏫\"\n",
    "    college_id=12345\n",
    "class faculty(college):\n",
    "    faculty_name=\"Aarti arora\"\n",
    "    faculty_id=23456\n",
    "    faculty_salary=200000\n",
    "class student(faculty):\n",
    "    student_name=\"Akshat\"\n",
    "    student_age=19\n",
    "    student_branch=\"CSE\"\n",
    "obj_std=student()\n",
    "print(\"College name is =\", obj_std.college_name)\n",
    "print(\"College id is =\", obj_std.college_id)\n",
    "print(\"College address is =\", obj_std.college_address)"
   ]
  },
  {
   "cell_type": "markdown",
   "metadata": {},
   "source": [
    "### 2. Private method"
   ]
  },
  {
   "cell_type": "code",
   "execution_count": 4,
   "metadata": {},
   "outputs": [
    {
     "name": "stdout",
     "output_type": "stream",
     "text": [
      "College name is = liet\n",
      "College address is = chikani 🏫\n",
      "Faculty name is = Aarti arora\n"
     ]
    },
    {
     "ename": "AttributeError",
     "evalue": "'student' object has no attribute '__faculty_id'",
     "output_type": "error",
     "traceback": [
      "\u001b[0;31m---------------------------------------------------------------------------\u001b[0m",
      "\u001b[0;31mAttributeError\u001b[0m                            Traceback (most recent call last)",
      "\u001b[1;32m/Users/akshat/Desktop/python/encapsulation_day6.ipynb Cell 4\u001b[0m line \u001b[0;36m1\n\u001b[1;32m     <a href='vscode-notebook-cell:/Users/akshat/Desktop/python/encapsulation_day6.ipynb#X11sZmlsZQ%3D%3D?line=14'>15</a>\u001b[0m \u001b[39mprint\u001b[39m(\u001b[39m\"\u001b[39m\u001b[39mCollege address is =\u001b[39m\u001b[39m\"\u001b[39m, obj_std\u001b[39m.\u001b[39mcollege_address)\n\u001b[1;32m     <a href='vscode-notebook-cell:/Users/akshat/Desktop/python/encapsulation_day6.ipynb#X11sZmlsZQ%3D%3D?line=15'>16</a>\u001b[0m \u001b[39mprint\u001b[39m(\u001b[39m\"\u001b[39m\u001b[39mFaculty name is =\u001b[39m\u001b[39m\"\u001b[39m, obj_std\u001b[39m.\u001b[39mfaculty_name)\n\u001b[0;32m---> <a href='vscode-notebook-cell:/Users/akshat/Desktop/python/encapsulation_day6.ipynb#X11sZmlsZQ%3D%3D?line=16'>17</a>\u001b[0m \u001b[39mprint\u001b[39m(\u001b[39m\"\u001b[39m\u001b[39mFaculty id is =\u001b[39m\u001b[39m\"\u001b[39m, obj_std\u001b[39m.\u001b[39;49m__faculty_id)\n\u001b[1;32m     <a href='vscode-notebook-cell:/Users/akshat/Desktop/python/encapsulation_day6.ipynb#X11sZmlsZQ%3D%3D?line=17'>18</a>\u001b[0m \u001b[39mprint\u001b[39m(\u001b[39m\"\u001b[39m\u001b[39mStudent name is =\u001b[39m\u001b[39m\"\u001b[39m, obj_std\u001b[39m.\u001b[39mstudent_name)\n\u001b[1;32m     <a href='vscode-notebook-cell:/Users/akshat/Desktop/python/encapsulation_day6.ipynb#X11sZmlsZQ%3D%3D?line=18'>19</a>\u001b[0m \u001b[39mprint\u001b[39m(\u001b[39m\"\u001b[39m\u001b[39mStudent name is =\u001b[39m\u001b[39m\"\u001b[39m, obj_std\u001b[39m.\u001b[39mstudent_age)\n",
      "\u001b[0;31mAttributeError\u001b[0m: 'student' object has no attribute '__faculty_id'"
     ]
    }
   ],
   "source": [
    "class college:\n",
    "    college_name=\"liet\"                     # Public variable\n",
    "    college_address=\"chikani 🏫\"            # Public variable\n",
    "\n",
    "class faculty(college):\n",
    "    faculty_name=\"Aarti arora\"              # Public variable\n",
    "    __faculty_id=23456                      # Private variable\n",
    "    \n",
    "class student(faculty):\n",
    "    student_name=\"Akshat\"                   # Public variable\n",
    "    student_age=19                          # Public variable\n",
    "    \n",
    "obj_std=student()\n",
    "print(\"College name is =\", obj_std.college_name)\n",
    "print(\"College address is =\", obj_std.college_address)\n",
    "print(\"Faculty name is =\", obj_std.faculty_name)\n",
    "print(\"Faculty id is =\", obj_std.__faculty_id)\n",
    "print(\"Student name is =\", obj_std.student_name)\n",
    "print(\"Student name is =\", obj_std.student_age)"
   ]
  },
  {
   "cell_type": "code",
   "execution_count": 8,
   "metadata": {},
   "outputs": [
    {
     "name": "stdout",
     "output_type": "stream",
     "text": [
      "college name =  liet\n",
      "college address =  chikani\n",
      "Faculty name is = Aarti arora\n",
      "Faculty id is = 23456\n",
      "Student name is = Akshat\n",
      "Student name is = 19\n"
     ]
    }
   ],
   "source": [
    "class college:\n",
    "    def __init__(self):\n",
    "        self.college_address=\"chikani\"\n",
    "        self.college_name=\"liet\"\n",
    "    def display(self):\n",
    "        print(\"college name = \",self.college_name)\n",
    "        print(\"college address = \", self.college_address)\n",
    "        \n",
    "class faculty(college):\n",
    "    faculty_name=\"Aarti arora\"\n",
    "    faculty_id=23456\n",
    "    \n",
    "class student(faculty):\n",
    "    student_name=\"Akshat\"\n",
    "    student_age=19\n",
    "    \n",
    "obj_std=student()\n",
    "obj_std.display()\n",
    "# print(\"College name is =\", obj_std.college_name)\n",
    "# print(\"College address is =\", obj_std.college_address)\n",
    "print(\"Faculty name is =\", obj_std.faculty_name)\n",
    "print(\"Faculty id is =\", obj_std.faculty_id)\n",
    "print(\"Student name is =\", obj_std.student_name)\n",
    "print(\"Student name is =\", obj_std.student_age)"
   ]
  },
  {
   "cell_type": "markdown",
   "metadata": {},
   "source": [
    "### 3. Protected Method"
   ]
  },
  {
   "cell_type": "code",
   "execution_count": 11,
   "metadata": {},
   "outputs": [
    {
     "name": "stdout",
     "output_type": "stream",
     "text": [
      "College name is = liet\n",
      "College address is = chikani 🏫\n",
      "Faculty name is = Aarti arora\n",
      "Faculty id is = 23456\n",
      "Student name is = Akshat\n",
      "Student name is = 19\n"
     ]
    }
   ],
   "source": [
    "class college:\n",
    "    _college_name=\"liet\"                    # Protected variable\n",
    "    college_address=\"chikani 🏫\"            # Public variable\n",
    "\n",
    "class faculty(college):\n",
    "    faculty_name=\"Aarti arora\"              # Public variable\n",
    "    faculty_id=23456                        # Public variable\n",
    "    \n",
    "class student(faculty):\n",
    "    _student_name=\"Akshat\"                  # Protected variable\n",
    "    student_age=19                          # Public variable\n",
    "    \n",
    "obj_std=student()\n",
    "print(\"College name is =\", obj_std._college_name)\n",
    "print(\"College address is =\", obj_std.college_address)\n",
    "print(\"Faculty name is =\", obj_std.faculty_name)\n",
    "print(\"Faculty id is =\", obj_std.faculty_id)\n",
    "print(\"Student name is =\", obj_std._student_name)\n",
    "print(\"Student name is =\", obj_std.student_age)"
   ]
  }
 ],
 "metadata": {
  "kernelspec": {
   "display_name": "Python 3",
   "language": "python",
   "name": "python3"
  },
  "language_info": {
   "codemirror_mode": {
    "name": "ipython",
    "version": 3
   },
   "file_extension": ".py",
   "mimetype": "text/x-python",
   "name": "python",
   "nbconvert_exporter": "python",
   "pygments_lexer": "ipython3",
   "version": "3.9.6"
  }
 },
 "nbformat": 4,
 "nbformat_minor": 2
}
