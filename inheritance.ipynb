{
 "cells": [
  {
   "cell_type": "markdown",
   "metadata": {},
   "source": [
    "# Multilevel inheritance\n",
    "* grandfather to father to child"
   ]
  },
  {
   "cell_type": "code",
   "execution_count": 3,
   "metadata": {},
   "outputs": [
    {
     "name": "stdout",
     "output_type": "stream",
     "text": [
      "grandfather name is =  rakesh\n",
      "grandfather age is =  75\n",
      "father name is =  ram\n",
      "father age is =  50\n",
      "child name is =  akash\n",
      "child age is =  19\n"
     ]
    }
   ],
   "source": [
    "class grandfather:\n",
    "    grandfather_name=\"rakesh\"\n",
    "    grandfather_age=75\n",
    "    \n",
    "class father(grandfather):\n",
    "    father_name=\"ram\"\n",
    "    father_age=50\n",
    "    \n",
    "class child(father):\n",
    "    child_name=\"akash\"\n",
    "    child_age=19\n",
    "\n",
    "obj_child = child()\n",
    "print(\"grandfather name is = \", obj_child.grandfather_name)\n",
    "print(\"grandfather age is = \", obj_child.grandfather_age)\n",
    "print(\"father name is = \", obj_child.father_name)\n",
    "print(\"father age is = \", obj_child.father_age)\n",
    "print(\"child name is = \", obj_child.child_name)\n",
    "print(\"child age is = \", obj_child.child_age)"
   ]
  },
  {
   "cell_type": "markdown",
   "metadata": {},
   "source": [
    "# Multiple Inheritance\n",
    "* 2 base class and one derived class"
   ]
  },
  {
   "cell_type": "code",
   "execution_count": 5,
   "metadata": {},
   "outputs": [
    {
     "name": "stdout",
     "output_type": "stream",
     "text": [
      "grandfather name is =  rakesh\n",
      "grandfather age is =  75\n",
      "father name is =  ram\n",
      "father age is =  50\n",
      "child name is =  akash\n",
      "child age is =  19\n"
     ]
    }
   ],
   "source": [
    "class grandfather:\n",
    "    grandfather_name=\"rakesh\"\n",
    "    grandfather_age=75\n",
    "    \n",
    "class father:\n",
    "    father_name=\"ram\"\n",
    "    father_age=50\n",
    "    \n",
    "class child(grandfather,father):\n",
    "    child_name=\"akash\"\n",
    "    child_age=19\n",
    "\n",
    "obj_child = child()\n",
    "print(\"grandfather name is = \", obj_child.grandfather_name)\n",
    "print(\"grandfather age is = \", obj_child.grandfather_age)\n",
    "print(\"father name is = \", obj_child.father_name)\n",
    "print(\"father age is = \", obj_child.father_age)\n",
    "print(\"child name is = \", obj_child.child_name)\n",
    "print(\"child age is = \", obj_child.child_age)"
   ]
  },
  {
   "cell_type": "code",
   "execution_count": null,
   "metadata": {},
   "outputs": [],
   "source": []
  }
 ],
 "metadata": {
  "kernelspec": {
   "display_name": "Python 3",
   "language": "python",
   "name": "python3"
  },
  "language_info": {
   "codemirror_mode": {
    "name": "ipython",
    "version": 3
   },
   "file_extension": ".py",
   "mimetype": "text/x-python",
   "name": "python",
   "nbconvert_exporter": "python",
   "pygments_lexer": "ipython3",
   "version": "3.9.6"
  }
 },
 "nbformat": 4,
 "nbformat_minor": 2
}
