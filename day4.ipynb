{
 "cells": [
  {
   "cell_type": "code",
   "execution_count": 106,
   "metadata": {},
   "outputs": [
    {
     "name": "stdout",
     "output_type": "stream",
     "text": [
      "1\n",
      "2\n",
      "3\n",
      "4\n",
      "5\n"
     ]
    }
   ],
   "source": [
    "## WHILE LOOP \n",
    "i=1\n",
    "while i<6:\n",
    "    print(i)\n",
    "    i+=1"
   ]
  },
  {
   "cell_type": "code",
   "execution_count": 107,
   "metadata": {},
   "outputs": [
    {
     "name": "stdout",
     "output_type": "stream",
     "text": [
      "1\n",
      "2\n",
      "3\n"
     ]
    }
   ],
   "source": [
    "## BREAK statement\n",
    "i=1\n",
    "while i<6:\n",
    "    print(i)\n",
    "    if i==3:\n",
    "        break\n",
    "    i+=1"
   ]
  },
  {
   "cell_type": "code",
   "execution_count": 108,
   "metadata": {},
   "outputs": [
    {
     "name": "stdout",
     "output_type": "stream",
     "text": [
      "2\n",
      "4\n",
      "5\n",
      "6\n"
     ]
    }
   ],
   "source": [
    "## CONTINUE statement\n",
    "i=1\n",
    "while i<6:\n",
    "    i+=1\n",
    "    if i==3:\n",
    "        continue\n",
    "    print(i)"
   ]
  },
  {
   "cell_type": "code",
   "execution_count": 109,
   "metadata": {},
   "outputs": [
    {
     "name": "stdout",
     "output_type": "stream",
     "text": [
      "1\n",
      "2\n",
      "3\n",
      "4\n",
      "5\n",
      "i is no longer less than 6\n"
     ]
    }
   ],
   "source": [
    "## \n",
    "i=1\n",
    "while i<6:\n",
    "    print(i)\n",
    "    i+=1\n",
    "else:\n",
    "    print(\"i is no longer less than 6\")"
   ]
  },
  {
   "cell_type": "code",
   "execution_count": 110,
   "metadata": {},
   "outputs": [
    {
     "name": "stdout",
     "output_type": "stream",
     "text": [
      "hello from a function\n"
     ]
    }
   ],
   "source": [
    "## FUNCTION\n",
    "def my_function():\n",
    "    print(\"hello from a function\")\n",
    "\n",
    "## calling a function\n",
    "my_function()"
   ]
  },
  {
   "cell_type": "code",
   "execution_count": 111,
   "metadata": {},
   "outputs": [
    {
     "name": "stdout",
     "output_type": "stream",
     "text": [
      "Akshat kumawat\n",
      "Devansh kumawat\n"
     ]
    }
   ],
   "source": [
    "## FUNCTION BY PARAMETER\n",
    "def my_function1(fname):\n",
    "    print(fname + \" kumawat\")\n",
    "    \n",
    "my_function1(\"Akshat\")\n",
    "my_function1(\"Devansh\")"
   ]
  },
  {
   "cell_type": "code",
   "execution_count": 112,
   "metadata": {},
   "outputs": [
    {
     "name": "stdout",
     "output_type": "stream",
     "text": [
      "6\n"
     ]
    }
   ],
   "source": [
    "## ADDITION OF TWO NUMBER\n",
    "\n",
    "def add():\n",
    "    x=int(input(\"enter a number\"))\n",
    "    y=int(input(\"enter a number\"))\n",
    "    z=x+y\n",
    "    print(z)\n",
    "    \n",
    "add()"
   ]
  },
  {
   "cell_type": "code",
   "execution_count": 113,
   "metadata": {},
   "outputs": [
    {
     "name": "stdout",
     "output_type": "stream",
     "text": [
      "7\n"
     ]
    }
   ],
   "source": [
    "def add(num1,num2):\n",
    "    result=num1+num2\n",
    "    return result\n",
    "\n",
    "num1=3\n",
    "num2=4\n",
    "result=add(num1,num2)\n",
    "print (result)"
   ]
  },
  {
   "cell_type": "code",
   "execution_count": 114,
   "metadata": {},
   "outputs": [
    {
     "name": "stdout",
     "output_type": "stream",
     "text": [
      "Akshat kumawat\n"
     ]
    }
   ],
   "source": [
    "def name(fname,lname):\n",
    "    print(fname+\" \"+lname)\n",
    "\n",
    "name(\"Akshat\",\"kumawat\")"
   ]
  },
  {
   "cell_type": "code",
   "execution_count": 115,
   "metadata": {},
   "outputs": [
    {
     "name": "stdout",
     "output_type": "stream",
     "text": [
      "the youngest child is alpika\n"
     ]
    }
   ],
   "source": [
    "## MULTIPLE ARGUMENTS OR (ARGS)\n",
    "def my_function2(*kids):                ##--> args parameter\n",
    "    print(\"the youngest child is \" + kids[1])\n",
    "    \n",
    "my_function2(\"akshat\",\"alpika\",\"sujal\")"
   ]
  },
  {
   "cell_type": "code",
   "execution_count": 116,
   "metadata": {},
   "outputs": [
    {
     "name": "stdout",
     "output_type": "stream",
     "text": [
      "the youngest child is sujal\n"
     ]
    }
   ],
   "source": [
    "## OTHER METHOD OF MULTIPLE ARGUMENTS\n",
    "def my_function2(child1,child2,child3):                ##--> args pa\n",
    "    print(\"the youngest child is \" + child3)\n",
    "    \n",
    "my_function2(child1=\"akshat\",child2=\"alpika\",child3=\"sujal\")"
   ]
  },
  {
   "cell_type": "code",
   "execution_count": 117,
   "metadata": {},
   "outputs": [
    {
     "name": "stdout",
     "output_type": "stream",
     "text": [
      "i am from Turkey\n",
      "i am from India\n",
      "i am from Thailand\n"
     ]
    }
   ],
   "source": [
    "def my_country(country=\"India\"):                ##--> args parameter\n",
    "    print(\"i am from \" + country)\n",
    "    \n",
    "my_country(\"Turkey\")\n",
    "my_country()\n",
    "my_country(\"Thailand\")"
   ]
  },
  {
   "cell_type": "code",
   "execution_count": 118,
   "metadata": {},
   "outputs": [
    {
     "name": "stdout",
     "output_type": "stream",
     "text": [
      "9\n"
     ]
    }
   ],
   "source": [
    "## SQUARE OF A NUMBER   \n",
    "\n",
    "def square():\n",
    "    x=int(input(\"enter a number\"))\n",
    "    z=x*x\n",
    "    print(z)\n",
    "\n",
    "square()"
   ]
  },
  {
   "cell_type": "code",
   "execution_count": 119,
   "metadata": {},
   "outputs": [
    {
     "name": "stdout",
     "output_type": "stream",
     "text": [
      "[16, 25, 289, 361]\n"
     ]
    }
   ],
   "source": [
    "## SQUARE OF A LIST\n",
    "\n",
    "def square(input_lst):\n",
    "    temp=[]\n",
    "    for x in input_lst:\n",
    "        temp.append(x*x)\n",
    "    return temp\n",
    "\n",
    "\n",
    "output=square([4,5,17,19])\n",
    "print(output)"
   ]
  },
  {
   "cell_type": "code",
   "execution_count": 120,
   "metadata": {},
   "outputs": [
    {
     "data": {
      "text/plain": [
       "4.0"
      ]
     },
     "execution_count": 120,
     "metadata": {},
     "output_type": "execute_result"
    }
   ],
   "source": [
    "## AVERAGE \n",
    "def average(list):\n",
    "    return sum(list)/len(list)\n",
    "\n",
    "average([2,4,6,3,5])"
   ]
  },
  {
   "cell_type": "code",
   "execution_count": 1,
   "metadata": {},
   "outputs": [
    {
     "name": "stdout",
     "output_type": "stream",
     "text": [
      "42\n"
     ]
    }
   ],
   "source": [
    "## MINIMUM VALUE IN A LIST\n",
    "def min_function(list):\n",
    "    a=min(list)\n",
    "    print(a)\n",
    "\n",
    "min_function([54, 63, 42, 59, 64])"
   ]
  },
  {
   "cell_type": "code",
   "execution_count": 123,
   "metadata": {},
   "outputs": [
    {
     "name": "stdout",
     "output_type": "stream",
     "text": [
      "64\n"
     ]
    }
   ],
   "source": [
    "## MAXIMUM VALUE IN A LIST\n",
    "def max_function(list):\n",
    "    a=max(list)\n",
    "    print(a)\n",
    "\n",
    "\n",
    "max_function([54, 63, 42, 59, 64])"
   ]
  },
  {
   "cell_type": "code",
   "execution_count": 124,
   "metadata": {},
   "outputs": [
    {
     "data": {
      "text/plain": [
       "854"
      ]
     },
     "execution_count": 124,
     "metadata": {},
     "output_type": "execute_result"
    }
   ],
   "source": [
    "## FIND MINIMUM VALUE IN A LIST WITHOUT USING FUNCTION\n",
    "\n",
    "def apna_min(lst):\n",
    "    minimum=x[0]\n",
    "    for i in lst:\n",
    "        if minimum>i:\n",
    "            minimum=i\n",
    "    return minimum\n",
    "    \n",
    "x=[6521,4334,2153,854,929]\n",
    "apna_min(x)"
   ]
  },
  {
   "cell_type": "code",
   "execution_count": 125,
   "metadata": {},
   "outputs": [
    {
     "data": {
      "text/plain": [
       "4334"
      ]
     },
     "execution_count": 125,
     "metadata": {},
     "output_type": "execute_result"
    }
   ],
   "source": [
    "## FIND MAXIMUM VALUE IN A LIST WITHOUT USING FUNCTION\n",
    "\n",
    "def apna_max(lst):\n",
    "    maximum=x[0]\n",
    "    for i in lst:\n",
    "        if maximum<i:\n",
    "            maximum=i\n",
    "    return maximum\n",
    "    \n",
    "x=[652,4334,2153,854,929]\n",
    "apna_max(x)"
   ]
  },
  {
   "cell_type": "code",
   "execution_count": 126,
   "metadata": {},
   "outputs": [
    {
     "name": "stdout",
     "output_type": "stream",
     "text": [
      "40\n"
     ]
    }
   ],
   "source": [
    "## LAMBDA FUNCTION\n",
    "\n",
    "# lambda arg: expression\n",
    "\n",
    "x=lambda a: a+10\n",
    "\n",
    "print(x(30))"
   ]
  },
  {
   "cell_type": "code",
   "execution_count": 127,
   "metadata": {},
   "outputs": [
    {
     "name": "stdout",
     "output_type": "stream",
     "text": [
      "98\n"
     ]
    }
   ],
   "source": [
    "##ADDING 3 VARIABLE BY LAMBDA FUNCTION\n",
    "x=lambda a,b,c: a+b+c+40\n",
    "\n",
    "print(x(12,32,14))"
   ]
  },
  {
   "cell_type": "code",
   "execution_count": 128,
   "metadata": {},
   "outputs": [
    {
     "name": "stdout",
     "output_type": "stream",
     "text": [
      "20\n"
     ]
    }
   ],
   "source": [
    "## DOUBLE BY THE LAMBDA FUNCTION\n",
    "def my_function(n):\n",
    "    return lambda a:a*n\n",
    "\n",
    "double=my_function(2)\n",
    "\n",
    "print(double(10))"
   ]
  }
 ],
 "metadata": {
  "kernelspec": {
   "display_name": "Python 3",
   "language": "python",
   "name": "python3"
  },
  "language_info": {
   "codemirror_mode": {
    "name": "ipython",
    "version": 3
   },
   "file_extension": ".py",
   "mimetype": "text/x-python",
   "name": "python",
   "nbconvert_exporter": "python",
   "pygments_lexer": "ipython3",
   "version": "3.9.6"
  }
 },
 "nbformat": 4,
 "nbformat_minor": 2
}
