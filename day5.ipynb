{
 "cells": [
  {
   "cell_type": "code",
   "execution_count": 70,
   "metadata": {},
   "outputs": [
    {
     "name": "stdout",
     "output_type": "stream",
     "text": [
      "hello akshat\n"
     ]
    }
   ],
   "source": [
    "\n",
    "x=int(input(\"enter a number\"))\n",
    "if x<10:\n",
    "    print(\"hello akshat\")\n"
   ]
  },
  {
   "cell_type": "code",
   "execution_count": 71,
   "metadata": {},
   "outputs": [
    {
     "name": "stdout",
     "output_type": "stream",
     "text": [
      "program is running\n",
      "program is executed\n",
      "the result is division is 0.75\n",
      "no exception found\n",
      "hello world\n"
     ]
    }
   ],
   "source": [
    "## EXCEPTION HANDELING ##\n",
    "x=int(input(\"enter number 1\"))\n",
    "y=int(input(\"enter number 2\"))\n",
    "\n",
    "try:\n",
    "    print(\"program is running\")\n",
    "    result=x/y\n",
    "    print(\"program is executed\")\n",
    "    print(\"the result is division is\",result)\n",
    "\n",
    "except Exception as e:\n",
    "    print(\"as get an error\")\n",
    "    print(e)\n",
    "\n",
    "else:\n",
    "    print(\"no exception found\")\n",
    "    \n",
    "finally:\n",
    "    print(\"hello world\")"
   ]
  },
  {
   "cell_type": "code",
   "execution_count": 72,
   "metadata": {},
   "outputs": [
    {
     "name": "stdout",
     "output_type": "stream",
     "text": [
      "python\n"
     ]
    }
   ],
   "source": [
    "## OBJECT ORIENTED PROGRAMING ##\n",
    "\n",
    "class animal:\n",
    "    #class variables\n",
    "    name=\"elephant\"\n",
    "    weight=2000\n",
    "    age=25\n",
    "    \n",
    "# Function vs Methods\n",
    "\n",
    "    def display(self):                  #   Self Keyword is used to call the data member of calls\n",
    "        print(self.name)\n",
    "        print(self.weight)\n",
    "        print(self.age)\n",
    "    \n",
    "obj_animal=animal()                     #   OBJECT CREATION\n",
    "# print(obj_animal.name)\n",
    "# obj_animal.display()\n",
    "\n",
    "obj_animal.name=\"python\"\n",
    "print(obj_animal.name)"
   ]
  },
  {
   "cell_type": "code",
   "execution_count": 73,
   "metadata": {},
   "outputs": [
    {
     "name": "stdout",
     "output_type": "stream",
     "text": [
      "python\n",
      "python\n"
     ]
    }
   ],
   "source": [
    "# inserting a data\n",
    "\n",
    "class animal:\n",
    "    #class variables\n",
    "    name=\"elephant\"\n",
    "    weight=2000\n",
    "    age=25\n",
    "    \n",
    "# Function vs Methods\n",
    "\n",
    "    def display(self):                  #   Self Keyword is used to call the data member of calls\n",
    "        print(self.name)\n",
    "        print(self.weight)\n",
    "        print(self.age)\n",
    "    \n",
    "obj_animal=animal()                     #   OBJECT CREATION\n",
    "# print(obj_animal.name)\n",
    "# obj_animal.display()\n",
    "\n",
    "obj_animal.name=\"python\"\n",
    "print(obj_animal.name)\n",
    "\n",
    "print(obj_animal.name)"
   ]
  },
  {
   "cell_type": "code",
   "execution_count": 74,
   "metadata": {},
   "outputs": [
    {
     "name": "stdout",
     "output_type": "stream",
     "text": [
      "hellow\n"
     ]
    }
   ],
   "source": [
    "# CONSTRUCTOR - INIT\n",
    "\n",
    "#__init__                                                        #it is used to define properties of object\n",
    "print(\"hellow\")"
   ]
  },
  {
   "cell_type": "code",
   "execution_count": 77,
   "metadata": {},
   "outputs": [
    {
     "name": "stdout",
     "output_type": "stream",
     "text": [
      "100\n"
     ]
    }
   ],
   "source": [
    "## EXAMPLE OF INIT CONSTRUCTOR\n",
    "class animal():\n",
    "    num1=100\n",
    "    num2=200\n",
    "    \n",
    "    def __init__(self,name,weight,age):\n",
    "        self.animal_name=name                   #creating variable name by using dot operator with self keyword\n",
    "        self.animal_weight=weight\n",
    "        self.animal_age=age\n",
    "    def display(self):\n",
    "        print(self.animal_name)\n",
    "        print(self.animal_age)\n",
    "        print(self.animal_weight)\n",
    "    \n",
    "obj1=animal(name=\"Tiger\",weight=\"300\",age=\"22\")\n",
    "# print(obj1.animal_age)\n",
    "# print(obj1.animal_name)\n",
    "# print(obj1.animal_weight)  \n",
    "# obj1.display()\n",
    "    \n",
    "print(obj1.num1)\n",
    "    "
   ]
  },
  {
   "cell_type": "code",
   "execution_count": null,
   "metadata": {},
   "outputs": [
    {
     "name": "stdout",
     "output_type": "stream",
     "text": [
      "19\n",
      "Pisuke\n",
      "2600\n",
      "200\n"
     ]
    }
   ],
   "source": [
    "## 2ND EXAMPLE OF INIT CONSTRUCTOR\n",
    "class animal():\n",
    "    num1=100\n",
    "    num2=200\n",
    "    \n",
    "    def __init__(self,name,weight,age):\n",
    "        self.animal_name=name                   #creating variable name by using dot operator with self keyword\n",
    "        self.animal_weight=weight\n",
    "        self.animal_age=age\n",
    "    def display(self):\n",
    "        print(self.animal_name)\n",
    "        print(self.animal_age)\n",
    "        print(self.animal_weight)\n",
    "    \n",
    "    # obj1=animal(name=\"Tiger\",weight=\"300\",age=\"22\")\n",
    "    # print(obj1.animal_age)\n",
    "    # print(obj1.animal_name)\n",
    "    # print(obj1.animal_weight)  \n",
    "    # obj1.display()\n",
    "    \n",
    "    obj2=animal(name=\"Pisuke\",weight=\"2600\",age=\"19\")\n",
    "    print(obj2.animal_age)\n",
    "    print(obj2.animal_name)\n",
    "    print(obj2.animal_weight)\n",
    "    \n",
    "    print(obj2.num2)"
   ]
  },
  {
   "cell_type": "code",
   "execution_count": null,
   "metadata": {},
   "outputs": [
    {
     "name": "stdout",
     "output_type": "stream",
     "text": [
      "name of the account holder: Akshat and account no is:  672388468293 and age of the account holder:  19 and address of the account holder:  alwar and add bank name:  BOB\n",
      "\n",
      "account holder name is changed:  Devansh\n",
      "Devansh\n",
      "19\n",
      "alwar\n",
      "BOB\n",
      "672388468293\n",
      "\n",
      "aecond account detail\n",
      "Akshat\n",
      "\n",
      "show account 1 info\n",
      "Devansh\n",
      "19\n",
      "alwar\n",
      "BOB\n",
      "672388468293\n",
      "\n",
      "show account 2 info\n",
      "Akshat\n",
      "19\n",
      "alwar\n",
      "BOB\n",
      "672388468293\n"
     ]
    }
   ],
   "source": [
    "class bank:\n",
    "    Name = \"Akshat\"                     #class variables\n",
    "    Age = \"19\"\n",
    "    Address = \"alwar\"\n",
    "    Bank_name = \"BOB\"\n",
    "    Account_no = 672388468293\n",
    "    \n",
    "    def show_info(self):                    \n",
    "        print(self.Name)\n",
    "        print(self.Age)\n",
    "        print(self.Address)\n",
    "        print(self.Bank_name)\n",
    "        print(self.Account_no)\n",
    "        \n",
    "account_1=bank()                                    #print the all info of the account holder\n",
    "print(\"name of the account holder:\", account_1.Name,\n",
    "      \"and account no is: \", account_1.Account_no,\n",
    "      \"and age of the account holder: \", account_1.Age,\n",
    "      \"and address of the account holder: \", account_1.Address,\n",
    "      \"and add bank name: \", account_1.Bank_name)\n",
    "print()\n",
    "\n",
    "account_1.Name= \"Devansh\"                              #we update the account holder name\n",
    "print(\"account holder name is changed: \", account_1.Name)\n",
    "\n",
    "account_1.show_info()                               #by the show_info we should taken that for taking output in a list\n",
    "print()\n",
    "print(\"aecond account detail\")\n",
    "\n",
    "account_2=bank()                                    #for printing the old name of the account holder\n",
    "print(account_2.Name)\n",
    "print()\n",
    "\n",
    "print(\"show account 1 info\")                        #full information of the account holder 1\n",
    "account_1.show_info()\n",
    "print()\n",
    "\n",
    "print(\"show account 2 info\")                        #full information of the account holder 2\n",
    "account_2.show_info()"
   ]
  },
  {
   "cell_type": "code",
   "execution_count": null,
   "metadata": {},
   "outputs": [
    {
     "name": "stdout",
     "output_type": "stream",
     "text": [
      "constructor is executed\n",
      "67\n",
      "my father name is:  mohan\n",
      "my father age is :  67\n",
      "hii i am ram\n",
      "i am 19 years old\n"
     ]
    }
   ],
   "source": [
    "## inheritance\n",
    "\n",
    "#1 single inheritance\n",
    "\n",
    "class father:\n",
    "    def __init__(self, name ,age):\n",
    "        self.father_name=name\n",
    "        self.father_age=age\n",
    "        print(\"constructor is executed\")\n",
    "        \n",
    "    def display(self):\n",
    "        print(\"my father name is: \",self.father_name)\n",
    "        print(\"my father age is : \",self.father_age)\n",
    "        \n",
    "class son(father):\n",
    "    def son_hii(self):\n",
    "        self.display()\n",
    "        print(\"hii i am ram\")\n",
    "        print(\"i am 19 years old\")\n",
    "    \n",
    "son_obj=son(\"mohan\",67)\n",
    "print(son_obj.father_age)\n",
    "\n",
    "son_obj.son_hii()\n"
   ]
  }
 ],
 "metadata": {
  "kernelspec": {
   "display_name": "Python 3",
   "language": "python",
   "name": "python3"
  },
  "language_info": {
   "codemirror_mode": {
    "name": "ipython",
    "version": 3
   },
   "file_extension": ".py",
   "mimetype": "text/x-python",
   "name": "python",
   "nbconvert_exporter": "python",
   "pygments_lexer": "ipython3",
   "version": "3.12.3"
  }
 },
 "nbformat": 4,
 "nbformat_minor": 2
}
