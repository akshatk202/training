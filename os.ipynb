{
 "cells": [
  {
   "cell_type": "code",
   "execution_count": 1,
   "metadata": {},
   "outputs": [],
   "source": [
    "import os               #import operating system"
   ]
  },
  {
   "cell_type": "code",
   "execution_count": 2,
   "metadata": {},
   "outputs": [
    {
     "data": {
      "text/plain": [
       "'posix'"
      ]
     },
     "execution_count": 2,
     "metadata": {},
     "output_type": "execute_result"
    }
   ],
   "source": [
    "os.name         # name of operating system"
   ]
  },
  {
   "cell_type": "code",
   "execution_count": 3,
   "metadata": {},
   "outputs": [
    {
     "data": {
      "text/plain": [
       "'/Users/akshat/Desktop/python'"
      ]
     },
     "execution_count": 3,
     "metadata": {},
     "output_type": "execute_result"
    }
   ],
   "source": [
    "os.getcwd()"
   ]
  },
  {
   "cell_type": "code",
   "execution_count": null,
   "metadata": {},
   "outputs": [],
   "source": [
    "# posix: means os is unix-linux\n",
    "# nt; means "
   ]
  },
  {
   "cell_type": "code",
   "execution_count": 4,
   "metadata": {},
   "outputs": [],
   "source": [
    "os.chdir(\"..\")       #change directory"
   ]
  },
  {
   "cell_type": "code",
   "execution_count": 5,
   "metadata": {},
   "outputs": [
    {
     "data": {
      "text/plain": [
       "'/Users/akshat/Desktop'"
      ]
     },
     "execution_count": 5,
     "metadata": {},
     "output_type": "execute_result"
    }
   ],
   "source": [
    "os.getcwd()         #find path"
   ]
  },
  {
   "cell_type": "code",
   "execution_count": 6,
   "metadata": {},
   "outputs": [
    {
     "data": {
      "text/plain": [
       "['untitled folder',\n",
       " 'Screenshots',\n",
       " '.DS_Store',\n",
       " 'Screenshot 2024-05-12 at 9.28.30\\u202fPM.png',\n",
       " 'python',\n",
       " '.localized',\n",
       " 'report on cloud computing 3.docx - Google Docs.pdf',\n",
       " 'dsa',\n",
       " 'neha sign.jpg',\n",
       " 'Screenshot 2024-05-28 at 8.03.38\\u202fPM.png',\n",
       " 'Screenshot 2024-06-02 at 6.03.26\\u202fPM.png',\n",
       " 'neha',\n",
       " 'CV 2.docx',\n",
       " 'NEHA pic.jpeg',\n",
       " 'dms',\n",
       " 'CV.pdf']"
      ]
     },
     "execution_count": 6,
     "metadata": {},
     "output_type": "execute_result"
    }
   ],
   "source": [
    "os.listdir(\".\")      #list directory"
   ]
  },
  {
   "cell_type": "code",
   "execution_count": 8,
   "metadata": {},
   "outputs": [],
   "source": [
    "os.mkdir(\"/Users/akshat/Desktop/jai shree ram\")             #make folder in desktop"
   ]
  },
  {
   "cell_type": "code",
   "execution_count": 9,
   "metadata": {},
   "outputs": [
    {
     "data": {
      "text/plain": [
       "['untitled folder',\n",
       " 'Screenshots',\n",
       " '.DS_Store',\n",
       " 'Screenshot 2024-05-12 at 9.28.30\\u202fPM.png',\n",
       " 'jai shree ram',\n",
       " 'python',\n",
       " '.localized',\n",
       " 'report on cloud computing 3.docx - Google Docs.pdf',\n",
       " 'dsa',\n",
       " 'neha sign.jpg',\n",
       " 'Screenshot 2024-05-28 at 8.03.38\\u202fPM.png',\n",
       " 'Screenshot 2024-06-02 at 6.03.26\\u202fPM.png',\n",
       " 'neha',\n",
       " 'CV 2.docx',\n",
       " 'NEHA pic.jpeg',\n",
       " 'dms',\n",
       " 'CV.pdf']"
      ]
     },
     "execution_count": 9,
     "metadata": {},
     "output_type": "execute_result"
    }
   ],
   "source": [
    "os.listdir(\".\")                                              #list directory"
   ]
  },
  {
   "cell_type": "code",
   "execution_count": 10,
   "metadata": {},
   "outputs": [],
   "source": [
    "os.rename(\"jai shree ram\",\"RAM\")            # rename the folder name"
   ]
  },
  {
   "cell_type": "code",
   "execution_count": 11,
   "metadata": {},
   "outputs": [
    {
     "data": {
      "text/plain": [
       "['untitled folder',\n",
       " 'Screenshots',\n",
       " '.DS_Store',\n",
       " 'Screenshot 2024-05-12 at 9.28.30\\u202fPM.png',\n",
       " 'python',\n",
       " '.localized',\n",
       " 'report on cloud computing 3.docx - Google Docs.pdf',\n",
       " 'dsa',\n",
       " 'neha sign.jpg',\n",
       " 'Screenshot 2024-05-28 at 8.03.38\\u202fPM.png',\n",
       " 'Screenshot 2024-06-02 at 6.03.26\\u202fPM.png',\n",
       " 'neha',\n",
       " 'CV 2.docx',\n",
       " 'NEHA pic.jpeg',\n",
       " 'dms',\n",
       " 'RAM',\n",
       " 'CV.pdf']"
      ]
     },
     "execution_count": 11,
     "metadata": {},
     "output_type": "execute_result"
    }
   ],
   "source": [
    "os.listdir(\".\")"
   ]
  },
  {
   "cell_type": "code",
   "execution_count": 15,
   "metadata": {},
   "outputs": [
    {
     "data": {
      "text/plain": [
       "'/Users/akshat/Desktop'"
      ]
     },
     "execution_count": 15,
     "metadata": {},
     "output_type": "execute_result"
    }
   ],
   "source": [
    "os.getcwd()"
   ]
  },
  {
   "cell_type": "code",
   "execution_count": 17,
   "metadata": {},
   "outputs": [
    {
     "ename": "FileExistsError",
     "evalue": "[Errno 17] File exists: '/Users/akshat/alpika/Desktop/RAM'",
     "output_type": "error",
     "traceback": [
      "\u001b[0;31m---------------------------------------------------------------------------\u001b[0m",
      "\u001b[0;31mFileExistsError\u001b[0m                           Traceback (most recent call last)",
      "\u001b[1;32m/Users/akshat/Desktop/python/os.ipynb Cell 14\u001b[0m line \u001b[0;36m1\n\u001b[0;32m----> <a href='vscode-notebook-cell:/Users/akshat/Desktop/python/os.ipynb#X20sZmlsZQ%3D%3D?line=0'>1</a>\u001b[0m os\u001b[39m.\u001b[39;49mmkdir(\u001b[39m\"\u001b[39;49m\u001b[39m/Users/akshat/alpika/Desktop/RAM\u001b[39;49m\u001b[39m\"\u001b[39;49m)\n",
      "\u001b[0;31mFileExistsError\u001b[0m: [Errno 17] File exists: '/Users/akshat/alpika/Desktop/RAM'"
     ]
    }
   ],
   "source": [
    "os.mkdir(\"/Users/akshat/alpika/Desktop/RAM\")                #mkdir don't use b/w the path"
   ]
  }
 ],
 "metadata": {
  "kernelspec": {
   "display_name": "Python 3",
   "language": "python",
   "name": "python3"
  },
  "language_info": {
   "codemirror_mode": {
    "name": "ipython",
    "version": 3
   },
   "file_extension": ".py",
   "mimetype": "text/x-python",
   "name": "python",
   "nbconvert_exporter": "python",
   "pygments_lexer": "ipython3",
   "version": "3.9.6"
  }
 },
 "nbformat": 4,
 "nbformat_minor": 2
}
