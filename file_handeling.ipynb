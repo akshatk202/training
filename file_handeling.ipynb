{
 "cells": [
  {
   "cell_type": "code",
   "execution_count": 5,
   "metadata": {},
   "outputs": [
    {
     "name": "stdout",
     "output_type": "stream",
     "text": [
      "hlo i am akshat\n"
     ]
    }
   ],
   "source": [
    "f=open(r\"/Users/akshat/Desktop/python/then.txt\",'r')\n",
    "print(f.read())\n",
    "\n",
    "f.close()\n"
   ]
  },
  {
   "cell_type": "markdown",
   "metadata": {},
   "source": [
    "#### 'r' Method"
   ]
  },
  {
   "cell_type": "code",
   "execution_count": 6,
   "metadata": {},
   "outputs": [
    {
     "name": "stdout",
     "output_type": "stream",
     "text": [
      "i am from alwar\n",
      "i am a student of LIET\n",
      "i am a badminton player\n",
      "my age is 19\n"
     ]
    }
   ],
   "source": [
    "f=open(r\"/Users/akshat/Desktop/python/then.txt\",'r')\n",
    "for i in f:\n",
    "    print(f.read())"
   ]
  },
  {
   "cell_type": "code",
   "execution_count": 22,
   "metadata": {},
   "outputs": [
    {
     "name": "stdout",
     "output_type": "stream",
     "text": [
      "hlo i am akshat\n",
      "\n",
      "i am from alwar\n",
      "\n",
      "i am a student of LIET\n",
      "\n",
      "i am a badminton player\n",
      "\n",
      "my age is 19\n"
     ]
    }
   ],
   "source": [
    "f=open(r\"/Users/akshat/Desktop/python/then.txt\",'r')\n",
    "print(f.readline())\n",
    "print(f.readline())\n",
    "print(f.readline())\n",
    "print(f.readline())\n",
    "print(f.readline())\n",
    "\n",
    "f.close()\n"
   ]
  },
  {
   "cell_type": "code",
   "execution_count": 25,
   "metadata": {},
   "outputs": [
    {
     "name": "stdout",
     "output_type": "stream",
     "text": [
      "hlo i am akshat\n",
      "\n"
     ]
    }
   ],
   "source": [
    "f=open(r\"then.txt\",'r')\n",
    "print(f.readline())"
   ]
  },
  {
   "cell_type": "code",
   "execution_count": 31,
   "metadata": {},
   "outputs": [
    {
     "name": "stdout",
     "output_type": "stream",
     "text": [
      "hlo i am akshat\n",
      "i am from alwar\n",
      "i am a student of LIET\n",
      "i am a badminton player\n",
      "my age is 19i am also from delhii am also from delhi i am also from delhi i am also from delhi\n"
     ]
    }
   ],
   "source": [
    "f=open(\"then.txt\",'a')\n",
    "f.write(\" i am also from delhi\")\n",
    "f.close()\n",
    "f=open(\"then.txt\",'r')\n",
    "print(f.read())"
   ]
  },
  {
   "cell_type": "code",
   "execution_count": 37,
   "metadata": {},
   "outputs": [
    {
     "name": "stdout",
     "output_type": "stream",
     "text": [
      "hlo i am akshat\n",
      "\n"
     ]
    }
   ],
   "source": [
    "with open(r\"then.txt\",'a') as file: \n",
    "    file.write(\"hello\")\n",
    "file.close()\n",
    "f=open(r\"then.txt\",'r')\n",
    "print(f.readline())"
   ]
  },
  {
   "cell_type": "code",
   "execution_count": null,
   "metadata": {},
   "outputs": [],
   "source": [
    "try:\n",
    "    with.open()"
   ]
  }
 ],
 "metadata": {
  "kernelspec": {
   "display_name": "Python 3",
   "language": "python",
   "name": "python3"
  },
  "language_info": {
   "codemirror_mode": {
    "name": "ipython",
    "version": 3
   },
   "file_extension": ".py",
   "mimetype": "text/x-python",
   "name": "python",
   "nbconvert_exporter": "python",
   "pygments_lexer": "ipython3",
   "version": "3.9.6"
  }
 },
 "nbformat": 4,
 "nbformat_minor": 2
}
