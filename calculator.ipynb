{
 "cells": [
  {
   "cell_type": "code",
   "execution_count": 15,
   "metadata": {},
   "outputs": [
    {
     "name": "stdout",
     "output_type": "stream",
     "text": [
      " the difference of:   1\n"
     ]
    }
   ],
   "source": [
    "a = int(input(\"enter the value\"))\n",
    "b = int(input(\"enter the value\"))\n",
    "c = input(\"operator\")\n",
    "if c=='+':\n",
    "    y=a+b\n",
    "    print(\"the sum of: \",y)\n",
    "elif c=='-':\n",
    "    y=a-b\n",
    "    print(\" the difference of:  \",y)\n",
    "elif c=='*':\n",
    "    y=a*b\n",
    "    print(\"the multiplication of: \",y)\n",
    "elif c=='/':\n",
    "    y=a/b\n",
    "    print(\"the division of: \",y)\n",
    "else:\n",
    "    print(\"the operator is not valid\")"
   ]
  }
 ],
 "metadata": {
  "kernelspec": {
   "display_name": "Python 3",
   "language": "python",
   "name": "python3"
  },
  "language_info": {
   "codemirror_mode": {
    "name": "ipython",
    "version": 3
   },
   "file_extension": ".py",
   "mimetype": "text/x-python",
   "name": "python",
   "nbconvert_exporter": "python",
   "pygments_lexer": "ipython3",
   "version": "3.12.3"
  }
 },
 "nbformat": 4,
 "nbformat_minor": 2
}
